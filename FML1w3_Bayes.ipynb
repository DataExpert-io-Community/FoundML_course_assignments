{
 "cells": [
  {
   "cell_type": "markdown",
   "metadata": {
    "id": "sO5O1oU5lPzy"
   },
   "source": [
    "# Classifiers with Bayes' rule"
   ]
  },
  {
   "cell_type": "markdown",
   "metadata": {
    "id": "ZY2ycaXLzpKx"
   },
   "source": [
    "### This notebook is based on the tutorials by\n",
    "\n",
    "Guillaume J. Clement \"Why & How to use the Naive Bayes algorithms in a regulated industry with sklearn | Python + code\", available at https://towardsdatascience.com/why-how-to-use-the-naive-bayes-algorithms-in-a-regulated-industry-with-sklearn-python-code-dbd8304ab2cf\n",
    "\n",
    "Saul Dobilas \"Naive Bayes Classifier — How to Successfully Use It in Python?\", available at https://towardsdatascience.com/naive-bayes-classifier-how-to-successfully-use-it-in-python-ecf76a995069"
   ]
  },
  {
   "cell_type": "markdown",
   "metadata": {
    "id": "JhffYl4ezpKy"
   },
   "source": [
    "Naive Bayes is a simple, fast algorithm, that is typically explainable for the foundations of its predictions. The algorithm is considered as simple (and as naive) because it assumes that the features are conditionally independent, which is rarely true in reality."
   ]
  },
  {
   "cell_type": "markdown",
   "metadata": {},
   "source": [
    "If the variables/features are continuously distributed, then we deal with the Gaussian Naive Bayes model. The crucial assumption here is that the features are independent and normally distributed. "
   ]
  },
  {
   "cell_type": "markdown",
   "metadata": {
    "id": "sJ0Yi9ALlPzz"
   },
   "source": [
    "If the variabels/features are discrete, then we deal with the multinomial distribution, which models the probability of counts for each side of a k-sided die rolled n times. For n independent trials each of which leads to a success for exactly one of k categories, with each category having a given fixed success probability, the multinomial distribution gives the probability of any particular combination of numbers of successes for the various categories. There are some special cases: \n",
    "- If k=2 and n=1, it is the Bernoulli distribution: model the probability of getting \"tails\" when flipping a coin once. This is about a binary variable.\n",
    "- If k=2 and n>1, it is the binomial distribution: model the probability of getting \"tails\" X times (0<=X<=n) when flipping a coin n times independently. This is about counts of a binary variable.\n",
    "- If k>2 and n=1, it is the categorical distribution: the probability of getting one of several options in a single sampling experiment. This is about a categorical/finite variable."
   ]
  },
  {
   "cell_type": "markdown",
   "metadata": {
    "id": "WSKiOrrXzpKz"
   },
   "source": [
    "We will discuss in this notebook how to build Naive Bayes classification models, including:\n",
    "1. Gaussian NB with 2 independent variables\n",
    "2. Categorical NB with 2 independent variables\n",
    "3. Bernoulli NB with 2 independent variables"
   ]
  },
  {
   "cell_type": "markdown",
   "metadata": {
    "id": "wiNI-vLLGFIx"
   },
   "source": [
    "#  0. Load the basic packages"
   ]
  },
  {
   "cell_type": "code",
   "execution_count": null,
   "metadata": {
    "id": "8yI5AnKtqcIT"
   },
   "outputs": [],
   "source": [
    "import numpy as np\n",
    "import pandas as pd\n",
    "import seaborn as sns\n",
    "\n",
    "%matplotlib inline\n",
    "import matplotlib.pyplot as plt"
   ]
  },
  {
   "cell_type": "markdown",
   "metadata": {
    "id": "AUMHnb_QFrmd"
   },
   "source": [
    "# 1. Load the data\n",
    "\n",
    "We use the Wisconsin breast cancer dataset available at https://archive.ics.uci.edu/dataset/17/breast+cancer+wisconsin+diagnostic. We load a version of the data from https://openml.org/search?type=data&status=any&id=43757. These are consecutive patients seen by Dr. Wolberg 1984-1992, and include only those cases exhibiting invasive breast cancer and no evidence of distant metastases at the time of diagnosis. Features are computed from a digitized image of a fine needle aspirate (FNA) of a breast mass. They describe characteristics of the cell nuclei present in the image. Ten real-valued features are offered in this dataset, each with its mean, standard error, and worst value seen for that tumour sample:\n",
    "\n",
    "a) radius (mean of distances from center to points on the perimeter)\n",
    "b) texture (standard deviation of gray-scale values)\n",
    "c) perimeter\n",
    "d) area\n",
    "e) smoothness (local variation in radius lengths)\n",
    "f) compactness (perimeter^2 / area - 1.0)\n",
    "g) concavity (severity of concave portions of the contour)\n",
    "h) concave points (number of concave portions of the contour)\n",
    "i) symmetry\n",
    "j) fractal dimension (\"coastline approximation\" - 1)\n",
    "\n",
    "The mean, standard error and \"worst\" or largest (mean of the three\n",
    "largest values) of these features were computed for each image,\n",
    "resulting in 30 features. All feature values are recoded with four significant digits.\n",
    "\n",
    "For each sample we also have the diagnosis: whether the tumour was malignant (M) or benign (B). Our task is to develop a machine learning model to predict the diagnosis for a sample, whose all other features are known."
   ]
  },
  {
   "cell_type": "code",
   "execution_count": null,
   "metadata": {
    "colab": {
     "base_uri": "https://localhost:8080/"
    },
    "id": "3-6j56pyF02B",
    "outputId": "06fe13d7-7e8d-459d-bede-c7abf6521f4b"
   },
   "outputs": [],
   "source": [
    "# Load the dataset from OpenML.org\n",
    "# Link to the dataset: https://openml.org/search?type=data&status=any&id=43757\n",
    "# ID of the dataset on OpenML: 43757\n",
    "\n",
    "from sklearn.datasets import fetch_openml\n",
    "\n",
    "X, y = fetch_openml(\n",
    "    data_id=43757,\n",
    "    as_frame=True,\n",
    "    return_X_y=True\n",
    ")\n",
    "\n",
    "print(type(X), type(y))\n",
    "print(X.columns)\n",
    "\n",
    "X.info()"
   ]
  },
  {
   "cell_type": "code",
   "execution_count": null,
   "metadata": {
    "id": "DGsFi_IezpK3",
    "outputId": "3bdbd818-e4ab-4c3e-d9cf-0b576a2798bd"
   },
   "outputs": [],
   "source": [
    "# y includes the labels and X includes the features\n",
    "y = X['diagnosis']       # M or B\n",
    "\n",
    "#To handle the data better, we replace the B/M values with numerical encodings 0/1.\n",
    "\n",
    "y = y.replace(['B', 'M'], [0, 1])\n",
    "\n",
    "X = X.drop(['Unnamed:_32','diagnosis'], axis = 1 )"
   ]
  },
  {
   "cell_type": "markdown",
   "metadata": {
    "id": "Ilx5Nw9mlP0B"
   },
   "source": [
    "# 2. Explore the data\n",
    "\n",
    "It is always a good to do some data exploration before we start using it, find outliers, and decide if we need a preprocessing phase to uniform or augment it. And also to make sure that all the classes are covered by or more or less the same number of samples."
   ]
  },
  {
   "cell_type": "code",
   "execution_count": null,
   "metadata": {
    "id": "A-oXkE-yzpK5",
    "outputId": "7f372d71-2a14-401a-a2e0-a923a99b6a5a"
   },
   "outputs": [],
   "source": [
    "# Print the samples on rows 50-59.\n",
    "\n",
    "X.iloc[50:60,:]"
   ]
  },
  {
   "cell_type": "markdown",
   "metadata": {
    "id": "lZoh7n21zpK5"
   },
   "source": [
    "We note that the dataset has a variety of features: some discrete ('diagnosis'), others continuous on various scales. This should be taken into account when pre-processing the data for the models."
   ]
  },
  {
   "cell_type": "code",
   "execution_count": null,
   "metadata": {
    "id": "mS-o78zbzpK6",
    "outputId": "6cc26682-841d-4977-b62d-c80dad38cf60"
   },
   "outputs": [],
   "source": [
    "# Check the distribution of samples between malignant/benign\n",
    "\n",
    "y.value_counts().plot(kind=\"bar\")\n",
    "plt.show()\n",
    "\n",
    "B, M = y.value_counts()\n",
    "print('Number of Benign: ',B)\n",
    "print('Number of Malignant : ',M)"
   ]
  },
  {
   "cell_type": "markdown",
   "metadata": {
    "id": "36kz806mzpK7"
   },
   "source": [
    "We conclude that the data is roughly balanced. A stratified split is in order, but no other balancing measures are needed."
   ]
  },
  {
   "cell_type": "code",
   "execution_count": null,
   "metadata": {
    "id": "TeoCmKmjzpK9",
    "outputId": "5f824a32-af3d-42bd-803c-378b1a916495"
   },
   "outputs": [],
   "source": [
    "# Visualise the distribution of each feature.\n",
    "# Q: Can they be considered as normally distributed?\n",
    "\n",
    "fig, axes = plt.subplots(figsize=(10, 20), nrows=10, ncols=3, layout=\"constrained\")\n",
    "X.plot(subplots=True, ax=axes, kind='kde')\n",
    "plt.show()"
   ]
  },
  {
   "cell_type": "markdown",
   "metadata": {
    "id": "4Mp7enh2zpK-"
   },
   "source": [
    "### Another way to visualise the data, this time separated on malignant/benign"
   ]
  },
  {
   "cell_type": "code",
   "execution_count": null,
   "metadata": {
    "id": "oHs5fDhFzpK-",
    "outputId": "e273993b-05bf-4a4e-84f3-fcbbcc013ad4"
   },
   "outputs": [],
   "source": [
    "# first ten features\n",
    "data = pd.concat([y,X.iloc[:,0:10]],axis=1)\n",
    "data = pd.melt(data,id_vars=\"diagnosis\",\n",
    "                    var_name=\"features\",\n",
    "                    value_name='value')\n",
    "plt.figure(figsize=(10,10))\n",
    "sns.violinplot(x=\"features\", y=\"value\", hue=\"diagnosis\", data=data,split=True, inner=\"quart\")\n",
    "plt.xticks(rotation=90)\n",
    "plt.show()"
   ]
  },
  {
   "cell_type": "markdown",
   "metadata": {
    "id": "Boo186dgzpK_"
   },
   "source": [
    "### Did not work out well: the features are on different scales. Let's normalize them."
   ]
  },
  {
   "cell_type": "code",
   "execution_count": null,
   "metadata": {
    "id": "_7M7EWdXzpLA",
    "outputId": "b1040eda-3a9e-48c5-b993-78aed9a9488c"
   },
   "outputs": [],
   "source": [
    "# Features 0-9\n",
    "\n",
    "from sklearn.preprocessing import StandardScaler\n",
    "\n",
    "scaler = StandardScaler()\n",
    "data = X.iloc[:,0:10]\n",
    "scaled_features = scaler.fit_transform(data)\n",
    "X_scaled = pd.DataFrame(scaled_features, index=data.index, columns=data.columns)\n",
    "\n",
    "data = pd.concat([y, X_scaled],axis=1)\n",
    "data = pd.melt(data,id_vars=\"diagnosis\",\n",
    "                    var_name=\"features\",\n",
    "                    value_name='value')\n",
    "plt.figure(figsize=(10,10))\n",
    "sns.violinplot(x=\"features\", y=\"value\", hue=\"diagnosis\", data=data,split=True, inner=\"quart\")\n",
    "plt.xticks(rotation=90)\n",
    "plt.show()"
   ]
  },
  {
   "cell_type": "code",
   "execution_count": null,
   "metadata": {
    "id": "QFpJ5RKVzpLA",
    "outputId": "62afbc1d-3189-4333-a666-bf969ff61c55"
   },
   "outputs": [],
   "source": [
    "# Features 10-19\n",
    "\n",
    "scaler = StandardScaler()\n",
    "data = X.iloc[:,10:20]\n",
    "scaled_features = scaler.fit_transform(data)\n",
    "X_scaled = pd.DataFrame(scaled_features, index=data.index, columns=data.columns)\n",
    "\n",
    "data = pd.concat([y, X_scaled],axis=1)\n",
    "data = pd.melt(data,id_vars=\"diagnosis\",\n",
    "                    var_name=\"features\",\n",
    "                    value_name='value')\n",
    "plt.figure(figsize=(10,10))\n",
    "sns.violinplot(x=\"features\", y=\"value\", hue=\"diagnosis\", data=data,split=True, inner=\"quart\")\n",
    "plt.xticks(rotation=90)\n",
    "plt.show()"
   ]
  },
  {
   "cell_type": "code",
   "execution_count": null,
   "metadata": {
    "id": "gdGmdqJQzpLB",
    "outputId": "a16611e9-56ed-4306-f620-782093baae4d"
   },
   "outputs": [],
   "source": [
    "# Features 20-29\n",
    "\n",
    "scaler = StandardScaler()\n",
    "data = X.iloc[:,20:30]\n",
    "scaled_features = scaler.fit_transform(data)\n",
    "X_scaled = pd.DataFrame(scaled_features, index=data.index, columns=data.columns)\n",
    "\n",
    "data = pd.concat([y, X_scaled],axis=1)\n",
    "data = pd.melt(data,id_vars=\"diagnosis\",\n",
    "                    var_name=\"features\",\n",
    "                    value_name='value')\n",
    "plt.figure(figsize=(10,10))\n",
    "sns.violinplot(x=\"features\", y=\"value\", hue=\"diagnosis\", data=data,split=True, inner=\"quart\")\n",
    "plt.xticks(rotation=90)\n",
    "plt.show()"
   ]
  },
  {
   "cell_type": "code",
   "execution_count": null,
   "metadata": {},
   "outputs": [],
   "source": [
    "del data\n",
    "del scaled_features\n",
    "del scaler"
   ]
  },
  {
   "cell_type": "markdown",
   "metadata": {
    "id": "-vfBm_T9zpLB"
   },
   "source": [
    "# 3. Data preprocessing"
   ]
  },
  {
   "cell_type": "code",
   "execution_count": null,
   "metadata": {
    "id": "L0MMn4TbzpLC"
   },
   "outputs": [],
   "source": [
    "# Reset the seed of the random number generator, for reproducibility purposes\n",
    "\n",
    "import os\n",
    "\n",
    "def reset_seed(SEED = 0):\n",
    "    \"\"\"Reset the seed for every random library in use (System, numpy)\"\"\"\n",
    "\n",
    "    os.environ['PYTHONHASHSEED']=str(SEED)\n",
    "    np.random.seed(SEED)\n",
    "\n",
    "\n",
    "reset_seed(2023)"
   ]
  },
  {
   "cell_type": "code",
   "execution_count": null,
   "metadata": {
    "id": "TffLjHY4zpLC"
   },
   "outputs": [],
   "source": [
    "# Split the training dataset into train+validation and test\n",
    "\n",
    "from sklearn.model_selection import train_test_split\n",
    "\n",
    "X_train_valid, X_test, y_train_valid, y_test = train_test_split(X,\n",
    "                                                      y,\n",
    "                                                      test_size=0.2,\n",
    "                                                      random_state=2023,\n",
    "                                                      stratify=y\n",
    "                                                     )\n",
    "\n",
    "X_train_valid = X_train_valid.reset_index(drop=True)\n",
    "X_test = X_test.reset_index(drop=True)\n",
    "y_train_valid = y_train_valid.reset_index(drop=True)\n",
    "y_test = y_test.reset_index(drop=True)\n",
    "\n",
    "\n",
    "\n",
    "# Split the training dataset into training and validation\n",
    "\n",
    "X_train, X_valid, y_train, y_valid = train_test_split(X_train_valid,\n",
    "                                                      y_train_valid,\n",
    "                                                      test_size=0.25,\n",
    "                                                      random_state=2023,\n",
    "                                                      stratify=y_train_valid\n",
    "                                                     )\n",
    "\n",
    "X_train = X_train.reset_index(drop=True)\n",
    "X__valid = X_valid.reset_index(drop=True)\n",
    "y_train = y_train.reset_index(drop=True)\n",
    "y_valid = y_valid.reset_index(drop=True)\n",
    "\n",
    "\n",
    "\n",
    "# Check the result of the data split\n",
    "\n",
    "print('# of training samples:', len(X_train))\n",
    "print(y_train.value_counts())\n",
    "\n",
    "print('# of validation samples:', len(X_valid))\n",
    "print(y_valid.value_counts())\n",
    "\n",
    "print('# of test samples:', len(X_test))\n",
    "print(y_test.value_counts())"
   ]
  },
  {
   "cell_type": "markdown",
   "metadata": {},
   "source": [
    "# 4. Models"
   ]
  },
  {
   "cell_type": "markdown",
   "metadata": {
    "id": "qBo17awNzpLD"
   },
   "source": [
    "## Model 1: Naive Bayes on a Gaussian distribution, with 2 variables (GaussianNB)\n",
    "We build a classifier based on Bayes' rule, considering only 2 features: area_mean,\n",
    "concavity_mean. Recall: the variables are assumed to be independent and normally distributed. "
   ]
  },
  {
   "cell_type": "code",
   "execution_count": null,
   "metadata": {
    "id": "LBqhav66zpLE"
   },
   "outputs": [],
   "source": [
    "# Consider only two features in this model: area_mean, concavity_mean.\n",
    "\n",
    "data_train = X_train[['area_mean', 'concavity_mean']]\n",
    "data_valid = X_valid[['area_mean', 'concavity_mean']]\n",
    "# data_test = X_test[['area_mean', 'concavity_mean']] # we do not use the test data in this notebook"
   ]
  },
  {
   "cell_type": "markdown",
   "metadata": {
    "id": "7id-G-xIzpLE"
   },
   "source": [
    "#### Scale the training data"
   ]
  },
  {
   "cell_type": "code",
   "execution_count": null,
   "metadata": {
    "id": "I22fWdB7zpLE"
   },
   "outputs": [],
   "source": [
    "scaler = StandardScaler()\n",
    "\n",
    "scaler = scaler.fit(data_train)\n",
    "data_train_scaled = scaler.transform(data_train)\n",
    "data_train = pd.DataFrame(data_train_scaled, index=data_train.index, columns=data_train.columns)\n",
    "\n",
    "del data_train_scaled"
   ]
  },
  {
   "cell_type": "markdown",
   "metadata": {},
   "source": [
    "### An sklearn model for Gaussian Naive Bayes classifier"
   ]
  },
  {
   "cell_type": "code",
   "execution_count": null,
   "metadata": {
    "id": "1Qjj0efJzpLF",
    "outputId": "9b8e5d3b-0d3f-41c3-8acf-ca9ced6cb846"
   },
   "outputs": [],
   "source": [
    "# Train a Gaussian Naive Bayes classifier with sklearn\n",
    "\n",
    "from sklearn.naive_bayes import GaussianNB\n",
    "from sklearn.metrics import classification_report\n",
    "\n",
    "gssnNB = GaussianNB()\n",
    "gssnNB.fit(data_train, y_train)\n",
    "\n",
    "# Print model attributes\n",
    "print('Classes: ', gssnNB.classes_) # class labels known to the classifier\n",
    "print('Class Priors: ',gssnNB.class_prior_) # prior probability of each class.\n",
    "print('Variances: ', gssnNB.var_)\n",
    "print('Score on the training data: ', gssnNB.score(data_train, y_train))\n",
    "pred_labels = gssnNB.predict(data_train)\n",
    "print(classification_report(y_train, pred_labels))"
   ]
  },
  {
   "cell_type": "code",
   "execution_count": null,
   "metadata": {
    "id": "xOfI9pHrzpLF",
    "outputId": "aab7c905-cd79-429f-ebfb-f54803907838"
   },
   "outputs": [],
   "source": [
    "data_valid_scaled = scaler.transform(data_valid)\n",
    "data_valid = pd.DataFrame(data_valid_scaled, index=data_valid.index, columns=data_valid.columns)\n",
    "del data_valid_scaled\n",
    "del scaler\n",
    "\n",
    "print('Score on the validation data: ', gssnNB.score(data_valid, y_valid))\n",
    "pred_labels = gssnNB.predict(data_valid)\n",
    "print(classification_report(y_valid, pred_labels))"
   ]
  },
  {
   "cell_type": "markdown",
   "metadata": {
    "id": "RBsbExHyzpLG"
   },
   "source": [
    "### An explicit model based on the calculations with Bayes' rule\n",
    "\n",
    "The following is based on the tutorial available at https://towardsdatascience.com/why-how-to-use-the-naive-bayes-algorithms-in-a-regulated-industry-with-sklearn-python-code-dbd8304ab2cf\n",
    "\n",
    "#### How does Naive Bayes work for continuous features — GaussianNB\n",
    "\n",
    "First of all, the Naive Bayes’ posterior probability calculus is defined as:"
   ]
  },
  {
   "cell_type": "markdown",
   "metadata": {
    "id": "4QKq5kUrBqNg"
   },
   "source": [
    "![52bd0ca5938da89d7f9bf388dc7edcbd546c118e.svg](data:image/svg+xml;base64,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)"
   ]
  },
  {
   "cell_type": "markdown",
   "metadata": {
    "id": "La95RdfaB2v1"
   },
   "source": [
    "![d0d9f596ba491384422716b01dbe74472060d0d7.svg](data:image/svg+xml;base64,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)"
   ]
  },
  {
   "cell_type": "markdown",
   "metadata": {
    "id": "4lVKrEDQzpLG"
   },
   "source": [
    "We aim to calculate over the next few steps the posterior probability for “benign” & “malignant” by using the variables \"area_mean\", \"concavity_mean\". To avoid any confusion, we refer to the feature \"area_mean\" as A and to \"concavity_mean\" as C. So our data x will be a 2-dimensional vector (A,C). "
   ]
  },
  {
   "cell_type": "markdown",
   "metadata": {
    "id": "5rn7ZiJszpLH"
   },
   "source": [
    "First, the estimation of the class prior is simple because it is about the ratio of benign (0)  and malignant (1) samples:"
   ]
  },
  {
   "cell_type": "code",
   "execution_count": null,
   "metadata": {
    "id": "imIt_yoOzpLH",
    "outputId": "3632c37c-4775-4446-9ab7-0b5b01d50ff7"
   },
   "outputs": [],
   "source": [
    "gssnPrior1 = (y_train.sum())/(len(y_train))\n",
    "gssnPrior0 = 1-(y_train.sum()/(len(y_train)))\n",
    "\n",
    "print(\"Class priors: \", gssnPrior0, gssnPrior1)"
   ]
  },
  {
   "cell_type": "markdown",
   "metadata": {},
   "source": [
    "From the sklearn model we got Class Priors:  [0.62756598 0.37243402].\n",
    "NOTE: these are the same values!"
   ]
  },
  {
   "cell_type": "markdown",
   "metadata": {
    "id": "xxyFIlw5zpLI"
   },
   "source": [
    "We estimate the likelihood probabilities p((A,C)|\"benign\") and p((A,C)|\"malignant\"). We assume that the two features are independent and categorically distributed. We estimate their mean and variance using the training sample."
   ]
  },
  {
   "cell_type": "code",
   "execution_count": null,
   "metadata": {},
   "outputs": [],
   "source": [
    "#Merge the labels into the data\n",
    "data_train_conc = pd.concat([data_train,y_train], axis=1)\n",
    "\n",
    "# Calculations for class \"benign\" / 0\n",
    "\n",
    "data_train_0 = data_train_conc[data_train_conc['diagnosis'] == 0]\n",
    "gssn_A_mean_0 = data_train_0['area_mean'].mean()\n",
    "gssn_C_mean_0 = data_train_0['concavity_mean'].mean()\n",
    "gssn_A_std_0 = data_train_0['area_mean'].std(ddof=0) # normalization by N\n",
    "gssn_C_std_0 = data_train_0['concavity_mean'].std(ddof=0) # normalization by N\n",
    "\n",
    "# Calculations for class \"malign\" / 1\n",
    "\n",
    "data_train_1 = data_train_conc[data_train_conc['diagnosis'] == 1]\n",
    "gssn_A_mean_1 = data_train_1['area_mean'].mean()\n",
    "gssn_C_mean_1 = data_train_1['concavity_mean'].mean()\n",
    "gssn_A_std_1 = data_train_1['area_mean'].std(ddof=0) # normalization by N\n",
    "gssn_C_std_1 = data_train_1['concavity_mean'].std(ddof=0) # normalization by N\n",
    "\n",
    "print(\"Variances calculated with Bayes' rule: \", \n",
    "      gssn_A_std_0**2, gssn_C_std_0**2, gssn_A_std_1**2, gssn_C_std_1**2\n",
    "     )"
   ]
  },
  {
   "cell_type": "markdown",
   "metadata": {},
   "source": [
    "Variances obtained from the sklearn model: [[0.13643587 0.21021074], [1.0131341  0.91604935]]\n",
    "Note: they are identical!"
   ]
  },
  {
   "cell_type": "markdown",
   "metadata": {
    "id": "iuBjPaEdzpLI"
   },
   "source": [
    "We get the conditional probabilities p(A|0), p(A|1), p(C|0) and p(C|1) by replacing these values into the equation of the normal distribution:"
   ]
  },
  {
   "cell_type": "markdown",
   "metadata": {
    "id": "8N1uwDrVzpLJ"
   },
   "source": [
    "\n",
    "\n",
    "![normal_distribution.svg](data:image/svg+xml;base64,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)"
   ]
  },
  {
   "cell_type": "code",
   "execution_count": null,
   "metadata": {},
   "outputs": [],
   "source": [
    "gssn_A_0 = (1/(gssn_A_std_0*np.sqrt(2*np.pi))) * np.exp( -(1/2)*np.square( (data_train_conc['area_mean']-gssn_A_mean_0)/gssn_A_std_0 ) )\n",
    "gssn_A_1 = (1/(gssn_A_std_1*np.sqrt(2*np.pi))) * np.exp( -(1/2)*np.square( (data_train_conc['area_mean']-gssn_A_mean_1)/gssn_A_std_1 ) )\n",
    "\n",
    "gssn_C_0 = (1/(gssn_C_std_0*np.sqrt(2*np.pi))) * np.exp( -(1/2)*np.square( (data_train_conc['concavity_mean']-gssn_C_mean_0)/gssn_C_std_0 ) )\n",
    "gssn_C_1 = (1/(gssn_C_std_1*np.sqrt(2*np.pi))) * np.exp( -(1/2)*np.square( (data_train_conc['concavity_mean']-gssn_C_mean_1)/gssn_C_std_1 ) )"
   ]
  },
  {
   "cell_type": "markdown",
   "metadata": {
    "id": "8dGGWGf3zpLJ"
   },
   "source": [
    "Now we have all the parameters to get the likelihood for the two classes based on our hypothesis that A and C are independent:\n",
    "p((A,C)|0)=p(A|0)* p(C|0)\n",
    "p((A,C)|1)=p(A|1)* p(C|1)\n"
   ]
  },
  {
   "cell_type": "code",
   "execution_count": null,
   "metadata": {
    "id": "cK9Y2Xv2zpLJ"
   },
   "outputs": [],
   "source": [
    "gssnLikelihood0 = gssn_A_0 * gssn_C_0\n",
    "gssnLikelihood1 = gssn_A_1 * gssn_C_1"
   ]
  },
  {
   "cell_type": "markdown",
   "metadata": {
    "id": "3NjIlDBGBj7u"
   },
   "source": [
    "We can calculate now the evidence p(A,C)=p(A,C|0)* p(0) + p(A,C|1)* p(1)"
   ]
  },
  {
   "cell_type": "code",
   "execution_count": null,
   "metadata": {
    "id": "kx7kBgqyBj7u"
   },
   "outputs": [],
   "source": [
    "gssnEvidence = (gssnPrior0*gssnLikelihood0) + (gssnPrior1*gssnLikelihood1)"
   ]
  },
  {
   "cell_type": "markdown",
   "metadata": {
    "id": "vUr5aEOnBj7v"
   },
   "source": [
    "Finally, we can calculate now the posterior probabilities p(0|A,C) and p(1|A,c)"
   ]
  },
  {
   "cell_type": "code",
   "execution_count": null,
   "metadata": {
    "id": "9qkzi8W7Bj7v"
   },
   "outputs": [],
   "source": [
    "gssnP0 = (gssnPrior0*gssnLikelihood0) / gssnEvidence\n",
    "gssnP1 = (gssnPrior1*gssnLikelihood1) / gssnEvidence"
   ]
  },
  {
   "cell_type": "code",
   "execution_count": null,
   "metadata": {
    "id": "sEMiF4l7Bj7v",
    "outputId": "52c71e6f-c2c2-49dc-e0a7-ff186e3e988d"
   },
   "outputs": [],
   "source": [
    "# The predictions we make based on the Bayes' rule\n",
    "pred2_labels=(gssnP0<gssnP1).astype(int)\n",
    "\n",
    "# Here are the predictions of our sklearn model\n",
    "pred_labels = gssnNB.predict(data_train)\n",
    "\n",
    "compare = (pred2_labels == pred_labels)\n",
    "print('The values in our comparison vector: ', np.unique(compare))"
   ]
  },
  {
   "cell_type": "markdown",
   "metadata": {},
   "source": [
    "NOTE: No False value in our comparison vector, i.e., we got the very same predictions as in the sklearn model!"
   ]
  },
  {
   "cell_type": "markdown",
   "metadata": {},
   "source": [
    "To check the predictions of the explicit Bayes' rule model on the validation and on the test datasets, the calculations above have to be re-done for those datasets. We skip this here, you may want to check the calculations yourself. "
   ]
  },
  {
   "cell_type": "code",
   "execution_count": null,
   "metadata": {},
   "outputs": [],
   "source": [
    "del data_train\n",
    "del data_valid"
   ]
  },
  {
   "cell_type": "markdown",
   "metadata": {
    "id": "jp2eiPOlzpLL"
   },
   "source": [
    "## Model 2: Naive Bayes on discrete distributions, with 2 variables (CategoricalNB)\n",
    "\n",
    "In this part we will see step by step how the estimation of the a posteriori probability is made when we use the Categorical Naive Bayes. Recall: the features are assumed to be independent and cateorically distributed. In other words, each feature can take a finite number of values, the probability distribution is about the outcome of a single sampling experiment.  \n",
    "\n",
    "The dataset we use in this notebook only has continuous distributions. We will choose two features and discretize (categorize) them to illustrate the use of this version of the Bayesian model. We will use 'texture_mean' and 'concavity_worst'."
   ]
  },
  {
   "cell_type": "code",
   "execution_count": null,
   "metadata": {},
   "outputs": [],
   "source": [
    "# Consider only two features in this model: area_mean, concavity_mean.\n",
    "\n",
    "data_train = X_train[['texture_mean', 'concavity_worst']]\n",
    "data_valid = X_valid[['texture_mean', 'concavity_worst']]\n",
    "# data_test = X_test[['texture_mean', 'concavity_worst']] # not used in this notebook"
   ]
  },
  {
   "cell_type": "markdown",
   "metadata": {},
   "source": [
    "#### Discretize the data\n",
    "This step would be skipped if the features were already categorical. "
   ]
  },
  {
   "cell_type": "code",
   "execution_count": null,
   "metadata": {},
   "outputs": [],
   "source": [
    "# We train 2 discretizers, one for each of the 2 features. \n",
    "# Use 3 bins for the first feature and 5 bins for the second, chosen so that the bins have the same number of points.\n",
    "# Other choices are also possible, and may work well. \n",
    "\n",
    "from sklearn.preprocessing import KBinsDiscretizer\n",
    "from sklearn.compose import ColumnTransformer\n",
    "\n",
    "ct = ColumnTransformer(\n",
    "    [\n",
    "        (\"discr1\", KBinsDiscretizer(n_bins=3, encode='ordinal', strategy='quantile'), [0]),\n",
    "        (\"discr2\", KBinsDiscretizer(n_bins=5, encode='ordinal', strategy='quantile'), [1])\n",
    "    ]\n",
    ")\n",
    "\n",
    "ct.fit(data_train)\n",
    "discr_train_transf = ct.transform(data_train).astype(int)\n",
    "discr_train = pd.DataFrame(\n",
    "    discr_train_transf, \n",
    "    index=data_train.index, \n",
    "    columns=data_train.columns\n",
    ")\n",
    "\n",
    "del data_train\n",
    "del discr_train_transf"
   ]
  },
  {
   "cell_type": "markdown",
   "metadata": {},
   "source": [
    "### An sklearn model for the Categorical Naive Bayes classifier"
   ]
  },
  {
   "cell_type": "code",
   "execution_count": null,
   "metadata": {},
   "outputs": [],
   "source": [
    "from sklearn.naive_bayes import CategoricalNB\n",
    "\n",
    "ctgrclNB = CategoricalNB(alpha=1)\n",
    "ctgrclNB.fit(discr_train, y_train)\n",
    "\n",
    "# Print model attributes\n",
    "print('Classes: ', ctgrclNB.classes_) # class labels known to the classifier\n",
    "print('Class log priors: ', ctgrclNB.class_log_prior_) \n",
    "print('Features log probabilities:\\n', ctgrclNB.feature_log_prob_)\n",
    "print('Score on the training data: ', ctgrclNB.score(discr_train, y_train))\n",
    "pred_labels = ctgrclNB.predict(discr_train)\n",
    "print(classification_report(y_train, pred_labels))"
   ]
  },
  {
   "cell_type": "code",
   "execution_count": null,
   "metadata": {},
   "outputs": [],
   "source": [
    "discr_valid_transf = ct.transform(data_valid).astype(int)\n",
    "discr_valid = pd.DataFrame(\n",
    "    discr_valid_transf, \n",
    "    index=data_valid.index, \n",
    "    columns=data_valid.columns\n",
    ")\n",
    "\n",
    "del data_valid\n",
    "del discr_valid_transf\n",
    "del ct\n",
    "\n",
    "print('Score on the validation data: ', ctgrclNB.score(discr_valid, y_valid))\n",
    "pred_labels = ctgrclNB.predict(discr_valid)\n",
    "print(classification_report(y_valid, pred_labels))"
   ]
  },
  {
   "cell_type": "markdown",
   "metadata": {},
   "source": [
    "### An explicit model based on the calculations with Bayes' rule\n",
    "#### How does Naive Bayes work for categorical features — CategoricalNB\n",
    "\n",
    "Recall that the Naive Bayes’ posterior probability calculus is defined as:"
   ]
  },
  {
   "cell_type": "markdown",
   "metadata": {
    "id": "4QKq5kUrBqNg"
   },
   "source": [
    "![52bd0ca5938da89d7f9bf388dc7edcbd546c118e.svg](data:image/svg+xml;base64,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)"
   ]
  },
  {
   "cell_type": "markdown",
   "metadata": {
    "id": "La95RdfaB2v1"
   },
   "source": [
    "![d0d9f596ba491384422716b01dbe74472060d0d7.svg](data:image/svg+xml;base64,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)"
   ]
  },
  {
   "cell_type": "markdown",
   "metadata": {},
   "source": [
    "In the categorical distribution we have a parameter alpha (that was also explicit in the sklearn model) as a smoothing parameter. This parameter allows to have no numerical issues in the calculations if we have a category with no observation in a class.\n",
    "\n",
    "Our data has two features ['texture_mean', 'concavity_worst'], i.e., it can be represented as a 2-dimensional vector denoted (T,W). We aim to calculate over the next few steps the posterior probability for “benign” & “malignant” by using the variables (T,W)=('texture_mean', 'concavity_worst'). \n",
    "\n",
    "Let's calculate the posterior probability of \"how likely is the tumor to be benign/malignant\" if T=1 and W=3. "
   ]
  },
  {
   "cell_type": "markdown",
   "metadata": {},
   "source": [
    "The estimation of the class prior is the same as before:"
   ]
  },
  {
   "cell_type": "code",
   "execution_count": null,
   "metadata": {},
   "outputs": [],
   "source": [
    "ctgrclPrior1 = (y_train.sum())/(len(y_train))\n",
    "ctgrclPrior0 = 1-(y_train.sum()/(len(y_train)))\n",
    "\n",
    "print(\"Class log priors: \", np.log(ctgrclPrior0), np.log(ctgrclPrior1))"
   ]
  },
  {
   "cell_type": "markdown",
   "metadata": {},
   "source": [
    "From sklearn we got the Class log priors: [-0.46590646 -0.98769539], i.e., the same!"
   ]
  },
  {
   "cell_type": "markdown",
   "metadata": {},
   "source": [
    "Now we estimate the likelihood probabilities p((T,W)|\"benign\") and p((T,W)|\"malignant\"). We assume that the two features are independent and categorically distributed. So we can perform the probabiity calculations independently for feature T and for feature W. Let x be either T or W, and c be the target class, 0 or 1. Let alpha be the smoothing parameter (we will use in the calculations alpha=1). \n",
    "\n",
    "The conditional probability p(x|c;alpha) for a single variable x categorically distributed is:\n",
    "\n",
    "                  P(x=t | c;alpha)=(N_{t,c} + alpha)/(N_c + alpha*n_x), where \n",
    "                   \n",
    "- N_{t,c} is the number of times that a category t appears in class c (on feature x), \n",
    "- N_c is the number of samples in class c, \n",
    "- n_x is the number of categories we have in  feature x,\n",
    "- t can be be any of the categories we have in feature x,\n",
    "- c is either 0 ('benign') or 1 ('malignant')."
   ]
  },
  {
   "cell_type": "markdown",
   "metadata": {
    "id": "LAfW27TezpLL"
   },
   "source": [
    "The likelihood probabilities for T=1 and W=3, with alpha=1, can now be calculated as follows: \n",
    "\n",
    "                  P(T=1 | c;alpha)=(N_{1,c}+1)/(N_c+3): \n",
    "                  \n",
    "- N_{1,c} is the number of times that category 1 appears in class c (on feature T), \n",
    "- N_c is the number of samples in class c, \n",
    "- n_T=3,\n",
    "- c is either 0 ('benign') or 1 ('malignant').\n",
    "\n",
    "Similarly, \n",
    "\n",
    "                  P(W=3 | c;alpha)=(N_{3,c}+1)/(N_c+5): \n",
    "                  \n",
    "- N_{3,c} is the number of times that category 3 appears in class c (on feature W), \n",
    "- N_c is the number of samples in class c, \n",
    "- n_W=5.\n",
    "- c is either 0 ('benign') or 1 ('malignant').\n",
    "\n",
    "Here are the numerical calculations for the 4 probabilities with c=0 and c=1:"
   ]
  },
  {
   "cell_type": "code",
   "execution_count": null,
   "metadata": {
    "id": "ZejE2txWzpLL"
   },
   "outputs": [],
   "source": [
    "#Merge the labels into the data\n",
    "discr_train_conc = pd.concat([discr_train,y_train], axis=1)\n",
    "\n",
    "# Calculations for class \"benign\" / 0\n",
    "\n",
    "ctgrclTp0 = (len(discr_train_conc[(discr_train_conc['texture_mean']==1)&(discr_train_conc['diagnosis']==0)])+1) / (len(discr_train_conc[discr_train_conc['diagnosis']==0])+(1*3))\n",
    "ctgrclWp0 = (len(discr_train_conc[(discr_train_conc['concavity_worst']==3)&(discr_train_conc['diagnosis']==0)])+1) / (len(discr_train_conc[discr_train_conc['diagnosis']==0])+(1*5))\n",
    "\n",
    "# Calculations for class \"malign\" / 1\n",
    "\n",
    "ctgrclTp1 = (len(discr_train_conc[(discr_train_conc['texture_mean']==1)&(discr_train_conc['diagnosis']==1)])+1) / (len(discr_train_conc[discr_train_conc['diagnosis']==1])+(1*3))\n",
    "ctgrclWp1 = (len(discr_train_conc[(discr_train_conc['concavity_worst']==3)&(discr_train_conc['diagnosis']==1)])+1) / (len(discr_train_conc[discr_train_conc['diagnosis']==1])+(1*5))"
   ]
  },
  {
   "cell_type": "markdown",
   "metadata": {
    "id": "AGKsvybHzpLM"
   },
   "source": [
    "We can calculate the likelihood p((T,W)=(1,3)|c)=p(T=1|c)* p(W=3|c):"
   ]
  },
  {
   "cell_type": "code",
   "execution_count": null,
   "metadata": {
    "id": "VfAeAI7ZzpLM"
   },
   "outputs": [],
   "source": [
    "ctgrclLikelihood0 = ctgrclTp0*ctgrclWp0\n",
    "ctgrclLikelihood1 = ctgrclTp1*ctgrclWp1"
   ]
  },
  {
   "cell_type": "markdown",
   "metadata": {},
   "source": [
    "We can calculate the evidence:"
   ]
  },
  {
   "cell_type": "code",
   "execution_count": null,
   "metadata": {},
   "outputs": [],
   "source": [
    "ctgrclEvidence = (ctgrclPrior0*ctgrclLikelihood0) + (ctgrclPrior1*ctgrclLikelihood1)"
   ]
  },
  {
   "cell_type": "markdown",
   "metadata": {},
   "source": [
    "We can calculate the posterior probabilities: p(0|(T,W)=(1,3)) and p(1|(T,W)=(1,3)):"
   ]
  },
  {
   "cell_type": "code",
   "execution_count": null,
   "metadata": {},
   "outputs": [],
   "source": [
    "ctgrclP0 = (ctgrclPrior0*ctgrclLikelihood0)/ctgrclEvidence\n",
    "ctgrclP1 = (ctgrclPrior1*ctgrclLikelihood1)/ctgrclEvidence\n",
    "\n",
    "print(\"The posterior probabilities for (T,W)=(1,3) are \", ctgrclP0, ctgrclP1)"
   ]
  },
  {
   "cell_type": "code",
   "execution_count": null,
   "metadata": {},
   "outputs": [],
   "source": [
    "# The predictions of the sklearn model on (T,W)=(1,3) are:\n",
    "\n",
    "x = np.array([1,3]).reshape(1,-1)\n",
    "x = pd.DataFrame(x, columns = ['texture_mean','concavity_worst'])\n",
    "ctgrclNB.predict_proba(x)"
   ]
  },
  {
   "cell_type": "code",
   "execution_count": null,
   "metadata": {},
   "outputs": [],
   "source": [
    "del discr_train\n",
    "del discr_train_conc\n",
    "del discr_valid"
   ]
  },
  {
   "cell_type": "markdown",
   "metadata": {},
   "source": [
    "#### The results are the same! The models predict class 1/malignant for this data point. "
   ]
  },
  {
   "cell_type": "markdown",
   "metadata": {
    "id": "6lm-HIXfzpLN"
   },
   "source": [
    "## Model 3: Naive Bayes on binary features, with 2 variables (BernoulliNB)\n",
    "\n",
    "In this part we will see step by step how the estimation of the a posteriori probability is made when we use the Bernoulli Naive Bayes. This is applicable to binary features that are independent and Bernoulli distributed. \n",
    "\n",
    "The dataset we use in this notebook only has continuous distributions. We will choose two features and binarise them to illustrate the use of this version of the Bayesian model. We will use ['concavity_se', 'area_se']."
   ]
  },
  {
   "cell_type": "code",
   "execution_count": null,
   "metadata": {},
   "outputs": [],
   "source": [
    "# Consider only two features in this model: area_mean, concavity_mean.\n",
    "\n",
    "data_train = X_train[['concavity_se', 'area_se']]\n",
    "data_valid = X_valid[['concavity_se', 'area_se']]\n",
    "# data_test = X_test[['concavity_se', 'area_se']] # not used in this dataset"
   ]
  },
  {
   "cell_type": "markdown",
   "metadata": {},
   "source": [
    "#### Binarise the data\n",
    "This step would be skipped if the features were already binary. "
   ]
  },
  {
   "cell_type": "code",
   "execution_count": null,
   "metadata": {},
   "outputs": [],
   "source": [
    "# We train 2 discretizers, one for each of the 2 features. \n",
    "# Use 2 bins for each of them. \n",
    "\n",
    "from sklearn.preprocessing import KBinsDiscretizer\n",
    "from sklearn.compose import ColumnTransformer\n",
    "\n",
    "ct = ColumnTransformer(\n",
    "    [\n",
    "        (\"binary1\", KBinsDiscretizer(n_bins=2, encode='ordinal', strategy='quantile'), [0]),\n",
    "        (\"binary2\", KBinsDiscretizer(n_bins=2, encode='ordinal', strategy='quantile'), [1])\n",
    "    ]\n",
    ")\n",
    "\n",
    "ct.fit(data_train)\n",
    "\n",
    "discr_train_transf = ct.transform(data_train).astype(int)\n",
    "discr_train = pd.DataFrame(\n",
    "    discr_train_transf, \n",
    "    index=data_train.index, \n",
    "    columns=data_train.columns\n",
    ")\n",
    "\n",
    "del data_train\n",
    "del discr_train_transf"
   ]
  },
  {
   "cell_type": "markdown",
   "metadata": {},
   "source": [
    "### An sklearn model for the Bernoulli Naive Bayes classifier"
   ]
  },
  {
   "cell_type": "code",
   "execution_count": null,
   "metadata": {},
   "outputs": [],
   "source": [
    "from sklearn.naive_bayes import BernoulliNB\n",
    "\n",
    "brnllNB = BernoulliNB(alpha=1)\n",
    "brnllNB.fit(discr_train, y_train)\n",
    "\n",
    "# Print model attributes\n",
    "print('Classes: ', brnllNB.classes_) # class labels known to the classifier\n",
    "print('Class log priors: ', brnllNB.class_log_prior_) \n",
    "print('Features log probabilities:\\n', brnllNB.feature_log_prob_)\n",
    "print('Score on the training data: ', brnllNB.score(discr_train, y_train))\n",
    "pred_labels = brnllNB.predict(discr_train)\n",
    "print(classification_report(y_train, pred_labels))"
   ]
  },
  {
   "cell_type": "code",
   "execution_count": null,
   "metadata": {},
   "outputs": [],
   "source": [
    "discr_valid_transf = ct.transform(data_valid).astype(int)\n",
    "discr_valid = pd.DataFrame(\n",
    "    discr_valid_transf, \n",
    "    index=data_valid.index, \n",
    "    columns=data_valid.columns\n",
    ")\n",
    "\n",
    "del data_valid\n",
    "del discr_valid_transf\n",
    "\n",
    "print('Score on the validation data: ', brnllNB.score(discr_valid, y_valid))\n",
    "pred_labels = brnllNB.predict(discr_valid)\n",
    "print(classification_report(y_valid, pred_labels))"
   ]
  },
  {
   "cell_type": "markdown",
   "metadata": {},
   "source": [
    "### An explicit model based on the calculations with Bayes' rule\n",
    "#### How does Naive Bayes work for binary features — BernoulliNB\n",
    "\n",
    "Recall that the Naive Bayes’ posterior probability calculus is defined as:"
   ]
  },
  {
   "cell_type": "markdown",
   "metadata": {
    "id": "4QKq5kUrBqNg"
   },
   "source": [
    "![52bd0ca5938da89d7f9bf388dc7edcbd546c118e.svg](data:image/svg+xml;base64,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)"
   ]
  },
  {
   "cell_type": "markdown",
   "metadata": {
    "id": "La95RdfaB2v1"
   },
   "source": [
    "![d0d9f596ba491384422716b01dbe74472060d0d7.svg](data:image/svg+xml;base64,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)"
   ]
  },
  {
   "cell_type": "markdown",
   "metadata": {},
   "source": [
    "We use a smoothing parameter alpha (that was also explicit in the sklearn model), that allows to have no numerical issues in the calculations even if we have a category with no observation in a class.\n",
    "\n",
    "Our data has two features ['concavity_se', 'area_se'], i.e., it can be represented as a 2-dimensional vector denoted (C,A). We aim to calculate over the next few steps the posterior probability for “benign” & “malignant” by using the variables (C,A)=('concavity_se', 'area_se'). \n",
    "\n",
    "Let's calculate the posterior probability of \"how likely is the tumor to be benign/malignant\" if C=1 and A=0. "
   ]
  },
  {
   "cell_type": "markdown",
   "metadata": {},
   "source": [
    "The estimation of the class prior is the same as before:"
   ]
  },
  {
   "cell_type": "code",
   "execution_count": null,
   "metadata": {},
   "outputs": [],
   "source": [
    "brnllPrior1 = (y_train.sum())/(len(y_train))\n",
    "brnllPrior0 = 1-(y_train.sum()/(len(y_train)))\n",
    "\n",
    "print(\"Class log priors: \", np.log(brnllPrior0), np.log(brnllPrior1))"
   ]
  },
  {
   "cell_type": "markdown",
   "metadata": {},
   "source": [
    "Note: from the sklearn model we got the class log priors: [-0.46590646 -0.98769539]. Same values!"
   ]
  },
  {
   "cell_type": "markdown",
   "metadata": {},
   "source": [
    "Now we estimate the likelihood probabilities p((C,A)|\"benign\") and p((C,A)|\"malignant\"). We assume that the two features are independent and categorically distributed. So we can perform the probabiity calculations independently for feature C and for feature A. Let x be either C or A (with values 0 or 1), and c be the target class (0 or 1). Let alpha be the smoothing parameter. The conditional probability p(x|c;alpha) on the Bernoulli distribution is:\n",
    "\n",
    "          P(x|c;alpha) = P(x=i|c;alpha)*i+P(x=1-i|c;alpha)*(1-i)    (where i=0,1)\n",
    "                       = P(x=1|c;alpha)\n",
    "                                \n",
    "As in the case of the categorical distribution, we have now \n",
    "\n",
    "                  P(x=1 | c;alpha)=(N_{1,c}+alpha)/(N_c+alpha * n_x), where \n",
    "                   \n",
    "- N_{1,c} is the number of times that category 1 appears in class c (on feature x), \n",
    "- N_c is the number of samples in class c, \n",
    "- n_x is the number of categories we have in feature x (in this case n_x=2).\n",
    "\n",
    "This leads to \n",
    "\n",
    "                  P(x=1 | c;alpha)=(N_{1,c}+alpha)/(N_c+alpha * 2)."
   ]
  },
  {
   "cell_type": "markdown",
   "metadata": {},
   "source": [
    "The likelihood probabilities for C=1 and W=0, with alpha=1, can now be calculated as follows: \n",
    "\n",
    "                  P(C=1 | c;alpha)=(N_{1,c}+1)/(N_c+2): \n",
    "                  \n",
    "- N_{1,c} is the number of times that category 1 appears in class c (on feature C), \n",
    "- N_c is the number of samples in class c.\n",
    "\n",
    "Similarly, \n",
    "\n",
    "                  P(A=0 | c;alpha) = 1-P(A=1 | c;alpha)\n",
    "                                   = 1-(N_{1,c}+1)/(N_c+2)\n",
    "                                   = (N_c-N_{1,c}+1)/(N_c+2)\n",
    "                                   = (N_{0,c}+1)/(N_c+2): \n",
    "                  \n",
    "- N_{0,c} is the number of times that category 0 appears in class c (on feature A), \n",
    "- N_c is the number of samples in class c.\n",
    "\n",
    "Here are the numerical calculations for the 4 probabilities (C=1, A=0) with c=0 and c=1:"
   ]
  },
  {
   "cell_type": "code",
   "execution_count": null,
   "metadata": {},
   "outputs": [],
   "source": [
    "#Merge the labels into the data\n",
    "discr_train_conc = pd.concat([discr_train,y_train], axis=1)\n",
    "\n",
    "# Calculations for class \"benign\" / 0\n",
    "\n",
    "brnllCp0 = (len(discr_train_conc[(discr_train_conc['concavity_se']==1)&(discr_train_conc['diagnosis']==0)])+1) / (len(discr_train_conc[discr_train_conc['diagnosis']==0])+2)\n",
    "brnllAp0 = (len(discr_train_conc[(discr_train_conc['area_se']==0)&(discr_train_conc['diagnosis']==0)])+1) / (len(discr_train_conc[discr_train_conc['diagnosis']==0])+2)\n",
    "\n",
    "# Calculations for class \"malign\" / 1\n",
    "\n",
    "brnllCp1 = (len(discr_train_conc[(discr_train_conc['concavity_se']==1)&(discr_train_conc['diagnosis']==1)])+1) / (len(discr_train_conc[discr_train_conc['diagnosis']==1])+2)\n",
    "brnllAp1 = (len(discr_train_conc[(discr_train_conc['area_se']==0)&(discr_train_conc['diagnosis']==1)])+1) / (len(discr_train_conc[discr_train_conc['diagnosis']==1])+2)"
   ]
  },
  {
   "cell_type": "markdown",
   "metadata": {},
   "source": [
    "We can calculate the likelihood p((C,A)=(1,0)|c)=p(C=1|c)* p(A=0|c):"
   ]
  },
  {
   "cell_type": "code",
   "execution_count": null,
   "metadata": {},
   "outputs": [],
   "source": [
    "brnllLikelihood0 = brnllCp0*brnllAp0\n",
    "brnllLikelihood1 = brnllCp1*brnllAp1"
   ]
  },
  {
   "cell_type": "markdown",
   "metadata": {},
   "source": [
    "We can calculate the evidence:"
   ]
  },
  {
   "cell_type": "code",
   "execution_count": null,
   "metadata": {},
   "outputs": [],
   "source": [
    "brnllEvidence = (brnllPrior0*brnllLikelihood0) + (brnllPrior1*brnllLikelihood1)"
   ]
  },
  {
   "cell_type": "markdown",
   "metadata": {},
   "source": [
    "We can calculate the posterior probabilities: p(0|(C,A)=(1,0)) and p(1|(C,A)=(1,0)):"
   ]
  },
  {
   "cell_type": "code",
   "execution_count": null,
   "metadata": {},
   "outputs": [],
   "source": [
    "brnllP0 = (brnllPrior0*brnllLikelihood0)/brnllEvidence\n",
    "brnllP1 = (brnllPrior1*brnllLikelihood1)/brnllEvidence\n",
    "\n",
    "print(\"The posterior probabilities for (C,A)=(1,0) are \", brnllP0, brnllP1)"
   ]
  },
  {
   "cell_type": "code",
   "execution_count": null,
   "metadata": {},
   "outputs": [],
   "source": [
    "# The predictions of the sklearn model on (T,W)=(1,3) are:\n",
    "\n",
    "x = np.array([1,0]).reshape(1,-1)\n",
    "x = pd.DataFrame(x, columns = ['concavity_se','area_se'])\n",
    "brnllNB.predict_proba(x)"
   ]
  },
  {
   "cell_type": "code",
   "execution_count": null,
   "metadata": {},
   "outputs": [],
   "source": [
    "del discr_train\n",
    "del discr_train_conc\n",
    "del discr_valid"
   ]
  },
  {
   "cell_type": "markdown",
   "metadata": {},
   "source": [
    "#### The results are the same!"
   ]
  },
  {
   "cell_type": "markdown",
   "metadata": {},
   "source": [
    "# Assignment 3: Naive Bayes on the Iris dataset. Use the random seed and the split from assignment 1\n",
    "\n",
    "### 1. Build a Gaussian Naive Bayes classifier (you may use sklearn) to classify the Iris dataset. Check its score of the model on the validation dataset?\n",
    "\n",
    "### 2. Build a categorical Naive Bayes classifier (you may use sklearn) to classify the Iris dataset. Use 5 bins for each feature, each with the same number of points. Check its score of the model on the validation dataset?\n",
    "\n",
    "### 3. Build a Bernoulli Naive Bayes classifier (you may use sklearn) to classify the Iris dataset. Check its score of the model on the validation dataset?\n",
    "\n",
    "### 4. Select your best model as the model with the best score on the validation set. Check its score on the test dataset."
   ]
  },
  {
   "cell_type": "code",
   "execution_count": null,
   "metadata": {},
   "outputs": [],
   "source": []
  }
 ],
 "metadata": {
  "colab": {
   "provenance": [],
   "toc_visible": true
  },
  "kernelspec": {
   "display_name": "Python 3 (ipykernel)",
   "language": "python",
   "name": "python3"
  },
  "language_info": {
   "codemirror_mode": {
    "name": "ipython",
    "version": 3
   },
   "file_extension": ".py",
   "mimetype": "text/x-python",
   "name": "python",
   "nbconvert_exporter": "python",
   "pygments_lexer": "ipython3",
   "version": "3.9.15"
  }
 },
 "nbformat": 4,
 "nbformat_minor": 1
}
