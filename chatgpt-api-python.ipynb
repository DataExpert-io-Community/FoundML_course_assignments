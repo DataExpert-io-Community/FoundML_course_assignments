{
 "cells": [
  {
   "cell_type": "markdown",
   "id": "3630c235-f891-4874-bd0a-5277d4d6aa82",
   "metadata": {},
   "source": [
    "# Demo Day 2024\n",
    "\n",
    "## Sentiment analysis with ChatGPT"
   ]
  },
  {
   "cell_type": "code",
   "execution_count": 1,
   "id": "503c6c0e",
   "metadata": {},
   "outputs": [],
   "source": [
    "import openai\n",
    "import os\n",
    "\n",
    "from openai import OpenAI\n",
    "\n",
    "client = OpenAI(api_key=\"YOUR-SECRET-KEY-HERE\")\n",
    "\n",
    "def get_completion(prompt, model=\"gpt-3.5-turbo\"):\n",
    "    messages = [{\"role\": \"user\", \"content\": prompt}]\n",
    "    response = client.chat.completions.create(model=model,messages=messages,temperature=0)\n",
    "    return response.choices[0].message.content"
   ]
  },
  {
   "cell_type": "markdown",
   "id": "30d6e4bd-3337-45a3-8c99-a734cdd06743",
   "metadata": {},
   "source": [
    "## Sentiment (positive/negative)"
   ]
  },
  {
   "cell_type": "code",
   "execution_count": 2,
   "id": "4c30e8e6",
   "metadata": {},
   "outputs": [
    {
     "name": "stdout",
     "output_type": "stream",
     "text": [
      "positive sentiment\n"
     ]
    }
   ],
   "source": [
    "prompt = f\"\"\"\n",
    "Classify the text below, delimited by three dashes, \n",
    "as having either a positive or a negative sentiment. \n",
    "\n",
    "Review text: \n",
    "'''\n",
    "I had today the Demo Day at the University of Turku. Lots of events, some of them \n",
    "quite interesting. It was nice to meet students from other high schools in the city.\n",
    "And of course it was nice to spend a school day outside the school itself. \n",
    "'''\n",
    "\"\"\"\n",
    "response = get_completion(prompt)\n",
    "print(response)"
   ]
  },
  {
   "cell_type": "markdown",
   "id": "235fc223-2c89-49ec-ac2d-78a8e74a43ac",
   "metadata": {},
   "source": [
    "## Inferring topics"
   ]
  },
  {
   "cell_type": "code",
   "execution_count": 3,
   "id": "ec95eb02",
   "metadata": {},
   "outputs": [],
   "source": [
    "# WRITE YOUR TEXT HERE\n",
    "\n",
    "my_text = f'''\n",
    "Yö pimenee, mutta meitä ei nukuta\n",
    "Mä vannoin, etten aio suhun rakastua\n",
    "Mut tulipalo on irti ja mä haluun sua\n",
    "Niinku hullu, tuhlaan tulitikkuja\n",
    "Miten menee\n",
    "Sä pystyt sen ehkä jo arvaa\n",
    "Oon yrittänyt kyl viihtyä muidenkin kanssa\n",
    "Mut vastaan on tullu haaleit hahmoi ja umpikujii\n",
    "Mä lasken viel kerran kaiken sun varaan\n",
    "Niin pysythän siin\n",
    "Pysythän siin\n",
    "Yö pimenee, mutta meitä ei nukuta\n",
    "Mä vannoin, etten aio suhun rakastua\n",
    "Mut tulipalo on irti ja mä haluun sua\n",
    "Niinku hullu, tuhlaan tulitikkuja\n",
    "Yö pimenee, mutta meitä ei nukuta\n",
    "Mä vannoin, etten aio suhun rakastua\n",
    "Mut tulipalo on irti ja mä haluun sua\n",
    "Niinku hullu, tuhlaan tulitikkuja\n",
    "Tuhlaan tulitikkuja\n",
    "Sanotaan vaan, et tää oli sattuman kauppaa\n",
    "Miten osuttiin samaan paikkaan ja aikaan\n",
    "Ei kadonnut tunteet piiskaamalla kummastakaan\n",
    "Ja mä oon taas valmis lähtee sun kaa ihan mihin vaan\n",
    "Yö pimenee, mutta meitä ei nukuta\n",
    "Mä vannoin, etten aio suhun rakastua\n",
    "Mut tulipalo on irti ja mä haluun sua\n",
    "Niinku hullu, tuhlaan tulitikkuja\n",
    "Yö pimenee, mutta meitä ei nukuta\n",
    "Mä vannoin, etten aio suhun rakastua\n",
    "Mut tulipalo on irti ja mä haluun sua\n",
    "Niinku hullu, tuhlaan tulitikkuja\n",
    "Tuhlaan tulitikkuja\n",
    "Tuhlaan tulitikkuja\n",
    "Tuhlaan tulitikkuja\n",
    "Tuhlaan tulitikkuja\n",
    "Tulipalo on irti ja mä haluun sua\n",
    "Niinku hullu, tuhlaan tulitikkuja\n",
    "\n",
    "'''"
   ]
  },
  {
   "cell_type": "code",
   "execution_count": 4,
   "id": "66c82edd",
   "metadata": {},
   "outputs": [
    {
     "name": "stdout",
     "output_type": "stream",
     "text": [
      "1. Confusion\n",
      "2. Longing\n",
      "3. Frustration\n",
      "4. Desperation\n",
      "5. Obsession\n"
     ]
    }
   ],
   "source": [
    "prompt = f\"\"\"\n",
    "Identify a list of emotions that the writer of the following text \n",
    "is expressing. Include no more than five items in the list. \n",
    "\n",
    "Review text: {my_text}\n",
    "\"\"\"\n",
    "response = get_completion(prompt)\n",
    "print(response)"
   ]
  },
  {
   "cell_type": "code",
   "execution_count": 5,
   "id": "dcd7a9c9",
   "metadata": {},
   "outputs": [
    {
     "name": "stdout",
     "output_type": "stream",
     "text": [
      "The main message being discussed in the text is the speaker's struggle with their feelings for someone. They initially swore not to fall in love with this person, but now they feel a strong desire for them, comparing it to a fire that they can't control. The speaker is willing to rely on this person and wants to be with them, even though they have tried to be with others and have encountered dead ends. The repeated phrase \"Yö pimenee, mutta meitä ei nukuta\" (The night darkens, but we can't sleep) emphasizes the intensity of their emotions.\n"
     ]
    }
   ],
   "source": [
    "prompt = f\"\"\"\n",
    "Determine the main message being discussed in the \n",
    "following text, which is delimited by triple backticks.\n",
    "\n",
    "Text sample: {my_text}\n",
    "\"\"\"\n",
    "response = get_completion(prompt)\n",
    "print(response)"
   ]
  },
  {
   "cell_type": "code",
   "execution_count": null,
   "id": "601f747e",
   "metadata": {},
   "outputs": [],
   "source": []
  },
  {
   "cell_type": "code",
   "execution_count": null,
   "id": "747b8270",
   "metadata": {},
   "outputs": [],
   "source": []
  },
  {
   "cell_type": "code",
   "execution_count": null,
   "id": "2db958d6",
   "metadata": {},
   "outputs": [],
   "source": []
  },
  {
   "cell_type": "code",
   "execution_count": null,
   "id": "cd8af845",
   "metadata": {},
   "outputs": [],
   "source": [
    "prompt = f\"\"\"\n",
    "Determine five topics that are being discussed in the following text, \n",
    "which is delimited by triple backticks. \n",
    "\n",
    "Text sample: {my_text}\n",
    "\"\"\"\n",
    "\n",
    "response = get_completion(prompt)\n",
    "print(response)"
   ]
  },
  {
   "cell_type": "code",
   "execution_count": null,
   "id": "1bd3553f",
   "metadata": {},
   "outputs": [],
   "source": []
  }
 ],
 "metadata": {
  "kernelspec": {
   "display_name": "Python 3 (ipykernel)",
   "language": "python",
   "name": "python3"
  },
  "language_info": {
   "codemirror_mode": {
    "name": "ipython",
    "version": 3
   },
   "file_extension": ".py",
   "mimetype": "text/x-python",
   "name": "python",
   "nbconvert_exporter": "python",
   "pygments_lexer": "ipython3",
   "version": "3.9.15"
  }
 },
 "nbformat": 4,
 "nbformat_minor": 5
}
